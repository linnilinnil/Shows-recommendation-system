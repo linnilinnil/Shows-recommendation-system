{
 "cells": [
  {
   "attachments": {},
   "cell_type": "markdown",
   "metadata": {},
   "source": [
    "# HW2: Web scraping and recommendation system building  "
   ]
  },
  {
   "attachments": {},
   "cell_type": "markdown",
   "metadata": {},
   "source": [
    "## Introduction"
   ]
  },
  {
   "attachments": {},
   "cell_type": "markdown",
   "metadata": {},
   "source": [
    "Ever spend over half an hour trying to look for a good show, or movie to watch on the weekend? Ever feel like none of the tiktok videos or spotify daily recommendations are interesting enough to keep you on the app? It is probably because the platforms' \"recommendation systems\" are not performing well to suggest content that suits your tastes. Reommendation systems suggest content that you might like based on your previous selections and overall user profile, and are tools pivotal to many entertainment&streaming services. While scalable and precise recommendation systems require in-depth understanding of user behaviours and typically involve machine learning models, there are ways to make recommendations based on simpler tools. In this blog, we will be using webscraping to answer the following questions:   \n",
    "\n",
    "**What movie or TV shows share actors with your favorite movie or show?**\n",
    "\n",
    "To answer this question, we would be crawling through the movie database (TMDB) and forage shows/movies that share the same cast as your favourite movie/show to come up with a list of recommendations. \n",
    "\n",
    "repository to this blogpost: 'https://github.com/linnilinnil/Shows-recommendation-system'"
   ]
  },
  {
   "attachments": {},
   "cell_type": "markdown",
   "metadata": {},
   "source": [
    "## Setting up"
   ]
  },
  {
   "attachments": {},
   "cell_type": "markdown",
   "metadata": {},
   "source": [
    "For demonstration, I would be picking an all-time classic —— The Godfather (part II). Let's save the link for now: https://www.themoviedb.org/movie/240-the-godfather-part-ii and check out what the page displays. To examine the source code of the site, we can use inspect to look at what content is hosted under what section of the page. "
   ]
  },
  {
   "attachments": {},
   "cell_type": "markdown",
   "metadata": {},
   "source": [
    "## Dry-run navigation "
   ]
  },
  {
   "attachments": {},
   "cell_type": "markdown",
   "metadata": {},
   "source": [
    "We will practice clicking through the navigation our scraper would be going through, try a few things in the scrapy shell, and look for potentially interesting elements on the page. "
   ]
  },
  {
   "attachments": {},
   "cell_type": "markdown",
   "metadata": {},
   "source": [
    "The link to the movie page could be decomposed into the following parts:  \n",
    "- https: hypertext transfer protocal secure. a set of rules that the transfer of data on the world wide web.\n",
    "- themoviedb: the domain name \n",
    "- org: domain extension, indicates what type of site the movie db is (organizational site)\n",
    "- 240-the-godfather-part-ii: directory, file path, address to specific resource locations within the site folders \n"
   ]
  },
  {
   "attachments": {},
   "cell_type": "markdown",
   "metadata": {},
   "source": [
    "Taking a closer look at each section and inspecting the source code, we see:  \n",
    "\n",
    "- Top Billed cast: under ``<section class=\"panel top_billed scroller\">`` (note here there are three classes separated by space. one of them is top_billed which is unique.)  \n",
    "The name of the cast can be found in the alternative text for the image (``<img ... alt=\" \" ...``), and the text for the second link (the first one is to the image) \n",
    "\n",
    "- Full Cast & Crew: by clicking this link, we would be transfered to a page showing the cast & crew list of the movie. The link is https://www.themoviedb.org/movie/240-the-godfather-part-ii/cast, indicating the content is put under a subfolder of the movie, ``/cast``. \n"
   ]
  },
  {
   "attachments": {},
   "cell_type": "markdown",
   "metadata": {},
   "source": [
    "We keep traversing by going into Al Pacino's actor page\n",
    "https://www.themoviedb.org/person/1158-al-pacino:  \n",
    "\n",
    "- Known For: list a series of the most known works Al Pacino, including classcis like the the Godfather, Scarface (but not Scent of a Woman and Dog Day Afternoon).  \n",
    "Under a div with the id \"known_for\", where names of work are enclosed within the`<bdi>` tags. \n",
    "- Actor name: the name Al Pacino is mentioned throughout the page. One way to get the name is from parsing the title of the page: **Al Pacino — The Movie Database (TMDB)**\n",
    "-  List of works: there is an option to filter for 'Acting' in the Deparment dropdown. We would end up with the link https://www.themoviedb.org/person/1158-al-pacino?credit_department=Acting which is the original link with ?credit_department=Acting in the end (additional argument pass along the request to the site)\n",
    "- Indiviaul work:  put under table (one for each year) with the class name \"credit_group\". The name of the work is enclosed within a pair of ``<bdi>`` tag."
   ]
  },
  {
   "attachments": {},
   "cell_type": "markdown",
   "metadata": {},
   "source": [
    "## Initializing the project \n"
   ]
  },
  {
   "attachments": {},
   "cell_type": "markdown",
   "metadata": {},
   "source": [
    "1. Create a new GitHub repository, and sync it with GitHub Desktop. This repository will house your scraper. You should commit and push each time you make significant changes to your code.\n",
    "Use the following commands in the terminal. \n",
    "```\n",
    "cd dir    \n",
    "git init    \n",
    "git remote add origin [link to Github repo]    \n",
    "git add .    \n",
    "git commit -m [message if u want to add description to the commit]    \n",
    "git push -u origin main  \n",
    "```"
   ]
  },
  {
   "attachments": {},
   "cell_type": "markdown",
   "metadata": {},
   "source": [
    "Open a terminal in the location of your repository on your laptop, and type: "
   ]
  },
  {
   "attachments": {},
   "cell_type": "markdown",
   "metadata": {},
   "source": [
    "```\n",
    "scrapy startproject TMDB_scraper\n",
    "cd TMDB_scraper\n",
    "```"
   ]
  },
  {
   "attachments": {},
   "cell_type": "markdown",
   "metadata": {},
   "source": [
    "You will notice the folder now looks like: \n",
    "TMDB_scraper/\n",
    "    scrapy.cfg            # deploy configuration file\n",
    "\n",
    "    tutorial/             # project's Python module, you'll import your code from here\n",
    "        __init__.py\n",
    "\n",
    "        items.py          # project items definition file\n",
    "\n",
    "        middlewares.py    # project middlewares file\n",
    "\n",
    "        pipelines.py      # project pipelines file\n",
    "\n",
    "        settings.py       # project settings file\n",
    "\n",
    "        spiders/          # a directory where you'll later put your spiders\n",
    "            __init__.py\n"
   ]
  },
  {
   "attachments": {},
   "cell_type": "markdown",
   "metadata": {},
   "source": [
    "## Tweak settings of the web scraper "
   ]
  },
  {
   "attachments": {},
   "cell_type": "markdown",
   "metadata": {},
   "source": [
    "For now, add the following line to the file settings.py:\n",
    "\n",
    "``CLOSESPIDER_PAGECOUNT = 20``\n",
    "\n",
    "This line just prevents your scraper from downloading too much data while you’re still testing things out. You’ll remove this line later."
   ]
  },
  {
   "attachments": {},
   "cell_type": "markdown",
   "metadata": {},
   "source": [
    "**Hint: Running into 403 Forbidden error?**   \n",
    "Sometimes a request gets 403 Forbidden error in response from the site. This occurs when you are not permitted to access a web page. There is nothing wrong with the connection, but the site's server just says 'No' to you ¯_ (ツ)_/¯ "
   ]
  },
  {
   "attachments": {},
   "cell_type": "markdown",
   "metadata": {},
   "source": [
    "To address this problem, let's take a closer look at the settings.py file. \n",
    "Find the ``USER_AGENT`` section, you will see that the default setting will have you self identified as a scrapy bot, which would very likely get you rejected from the site. We can change this to a more 'real user-like' user agent. A more convenient way of configuring your identity is by modifying the header (override the ``DEFULAT_HEADER`` setting). \n",
    "\n",
    "**What is a request header and where can I find mine?** \n",
    "A request header is an HTTP header that can be used in an HTTP request to provide information about the request context, so that the server can tailor the response. It would usually include specification of the user_agent.\n",
    "\n",
    "To find the header your computer sends to the site, go to the ``Netowrk`` nab in the inspect window, and use keyboard shortcut to refresh the page. Search for User-Agent, and you will see (at least part of) your request header. Copy paste that to the settings file.  As an example, I use:  \n",
    "\n",
    "```\n",
    "DEFAULT_REQUEST_HEADERS = {\n",
    "        \"User-Agent\": \"Mozilla/5.0 (Windows NT 10.0; Win64; x64; rv:98.0) Gecko/20100101 Firefox/98.0\",\n",
    "        \"Accept\": \"text/html,application/xhtml+xml,application/xml;q=0.9,image/avif,image/webp,*/*;q=0.8\",\n",
    "        \"Accept-Language\": \"en-US,en;q=0.5\",\n",
    "        \"Accept-Encoding\": \"gzip, deflate\",\n",
    "        \"Connection\": \"keep-alive\",\n",
    "        \"Upgrade-Insecure-Requests\": \"1\",\n",
    "        \"Sec-Fetch-Dest\": \"document\",\n",
    "        \"Sec-Fetch-Mode\": \"navigate\",\n",
    "        \"Sec-Fetch-Site\": \"none\",\n",
    "        \"Sec-Fetch-User\": \"?1\",\n",
    "        \"Cache-Control\": \"max-age=0\",\n",
    "    }\n",
    "```\n",
    "\n"
   ]
  },
  {
   "attachments": {},
   "cell_type": "markdown",
   "metadata": {},
   "source": [
    "## Creating your own scraper"
   ]
  },
  {
   "attachments": {},
   "cell_type": "markdown",
   "metadata": {},
   "source": [
    "Create a file inside the spiders directory called tmdb_spider.py. Add the following lines to the file.   \n",
    "Replace the entry of start_urls with the URL corresponding to your favorite movie or TV show.  \n",
    "\n",
    "\n",
    "```python\n",
    "# to run \n",
    "# scrapy crawl tmdb_spider -o movies.csv\n",
    "\n",
    "import scrapy\n",
    "class TMDB_Spider(scrapy.Spider):\n",
    "    name = 'TMDB_Spider'\n",
    "    start_urls = ['https://www.themoviedb.org/movie/240-the-godfather-part-ii']\n",
    "```"
   ]
  },
  {
   "attachments": {},
   "cell_type": "markdown",
   "metadata": {},
   "source": [
    "Now, we will implement the three parsing methods for the TMDB_Spider class to parse the start page, the cast&crew page, and the individual actor/actress page individually.  "
   ]
  },
  {
   "attachments": {},
   "cell_type": "markdown",
   "metadata": {},
   "source": [
    "### parse(slef, response):\n",
    "\n",
    "This function should assume that you start on a movie page, and then navigate to the Cast & Crew page. Remember that this page has url <movie_url>cast. (You are allowed to hardcode that part.) "
   ]
  },
  {
   "attachments": {},
   "cell_type": "markdown",
   "metadata": {},
   "source": [
    "```python\n",
    "def parse(self, response):\n",
    "        \"\"\"\n",
    "        main parser that starts from the favourite movie page and goes to the cast page\n",
    "        \"\"\"\n",
    "        \n",
    "        #since we already know the pattern, we will just hardcode the page to the cast&crew\n",
    "        cast_url = self.start_urls[0] + '/cast'\n",
    "        #then we proceed to calling the parse_full_credits method with the new url\n",
    "        yield scrapy.Request(url=cast_url, callback=self.parse_full_credits)\n",
    "    \n",
    "   ```"
   ]
  },
  {
   "attachments": {},
   "cell_type": "markdown",
   "metadata": {},
   "source": [
    "This methods does not return anything to the output csv file. We would just be jumping to the next parser for the cast&crew page. The ``scrapy.Request`` function representas an HTTP request, which is usually generated in a Spider and executed by the Downloader, thus generating a Response. The url would be the url to the Cast&Crew page, while the callback is the function that will be called with the response of this request (once it’s downloaded) as its first parameter. In this scenario, we would be using the parse_full_credits function which we will defined next to parse the Cast&Crew page"
   ]
  },
  {
   "attachments": {},
   "cell_type": "markdown",
   "metadata": {},
   "source": [
    "### parse_full_credits(self, response)   \n",
    "\n",
    "This function should assume that you start on the Cast & Crew page. Its purpose is to yield a scrapy.Request for the page of each actor listed on the page. Crew members are not included. The yielded request should specify the method parse_actor_page(self, response) should be called when the actor’s page is reached. The parse_full_credits() method does not return any data. This method should be no more than 5 lines of code, excluding comments and docstrings."
   ]
  },
  {
   "attachments": {},
   "cell_type": "markdown",
   "metadata": {},
   "source": [
    "```python\n",
    "def parse_full_credits(self, response):\n",
    "    \"\"\"\n",
    "    cast&crew page parser that traverses through pages of all the cast of the movie\n",
    "    \"\"\"\n",
    "    # the cast information is put under the ol (ordered lists) with class name \"people\" and \"credits \"\n",
    "    # the link to individual cast page is put in <a href = [relative path]>\n",
    "    castlinks = response.css(\"ol\")[0].css(\"div.info\").css(\"a::attr(href)\").getall()\n",
    "    # we can hardcode the link to filter for works the person act in\n",
    "    # use list comprehension to generate the list of cast pages\n",
    "    castlinks = [i+\"?credit_department=Acting\" for i in castlinks]\n",
    "    casts = [response.urljoin(link) for link in castlinks]\n",
    "\n",
    "    for cast in casts:\n",
    "        yield scrapy.Request(cast, callback = self.parse_actor_page)\n",
    "```"
   ]
  },
  {
   "attachments": {},
   "cell_type": "markdown",
   "metadata": {},
   "source": [
    "We mainly use the css selector and the urljoin method to get the links to the pages of individual cast members. After getting a list of links to the cast members, we traverse them one by one using a for loop. For each link, we would be calling the parse_actor_page function which we will define next to process the page of the actor/actress.  "
   ]
  },
  {
   "attachments": {},
   "cell_type": "markdown",
   "metadata": {},
   "source": [
    "### parse_actor_page(self, response):   \n",
    "This function should assume that you start on the page of an actor. It should yield a dictionary with two key-value pairs, of the form {\"actor\" : actor_name, \"movie_or_TV_name\" : movie_or_TV_name}. The method should yield one such dictionary for each of the movies or TV shows on which that actor has worked. Note that you will need to determine both the name of the actor and the name of each movie or TV show. This method should be no more than 15 lines of code, excluding comments and docstrings."
   ]
  },
  {
   "attachments": {},
   "cell_type": "markdown",
   "metadata": {},
   "source": [
    "```python\n",
    "def parse_actor_page(self, response):\n",
    "        \"\"\"\n",
    "       start on the page of actor, yield information about the actor's work\n",
    "        \"\"\"\n",
    "        \n",
    "        #get actor name: actor name is in the title of the page before the '-' dash symbol\n",
    "        title = response.css(\"title::text\").get()\n",
    "        actor_name = title.split(\" —\")[0]\n",
    "\n",
    "        # acting infromation is put under the first table with class 'card' and 'credits'\n",
    "        # enclosed in <bdi> is the name of the work\n",
    "        shows = response.css(\"table.credits\")[0].css(\"bdi::text\").getall()\n",
    "        for work in shows:\n",
    "            yield {\"actor\" : actor_name, \"show_name\" : work}\n",
    "```\n"
   ]
  },
  {
   "attachments": {},
   "cell_type": "markdown",
   "metadata": {},
   "source": [
    "As discussed in the dry navigation section, we can find where to look for the information we want through examining html tags and css attributes through the inspect tool of the browser. This functions would actually return a dictionary containing the recommended work to the final csv. output. \n",
    "\n",
    "Provided that these methods are correctly implemented, you can run the command **(please run this in the project directory!)**\n",
    "```\n",
    "scrapy crawl tmdb_spider -o results.csv\n",
    "```\n",
    "to create a .csv file with a column for actors and a column for movies or TV shows.\n",
    "\n",
    "Once your spider is fully written, comment out the line\n",
    "```\n",
    "CLOSESPIDER_PAGECOUNT = 20\n",
    "```\n",
    "in the settings.py file to get the full results."
   ]
  },
  {
   "attachments": {},
   "cell_type": "markdown",
   "metadata": {},
   "source": [
    "### Experimentation in the scrapy shell:  \n",
    "Some of the following commands might be helpful for trying things:   \n",
    "```python\n",
    "#In terminal\n",
    "scrapy shell https://www.themoviedb.org/movie/240-the-godfather-part-ii\n",
    "#In scrapy shell\n",
    "response.css('div').attrib\n",
    "#to fetch a new url\n",
    "fetch([url],redirect=True)\n",
    "```"
   ]
  },
  {
   "attachments": {},
   "cell_type": "markdown",
   "metadata": {},
   "source": [
    "##  Ideas for building a slightly better rec system \n",
    "\n",
    "- We cam make the recommendations a little bit more accurate by only including only the top-billed cast by examining the top-billed casts section of the movie/show's page.  Or, excluding the uncredited cast members who only make minor/trivial appearances by filtering out cast members whose character description includes '(uncredited)'.\n",
    "\n",
    "- When examining individual cast's work, we can only include TV shows that they are main characters in, and/or movies that they are top-billed casts in. (This would include examining movies/tv shows separately through the the 'All' drop-down menu and further visiting the page of individual work to get top-billed casts and episodes information).  \n",
    "\n",
    "- We can also include the keywords section in our scraping so we can filter for work with similar keywords in the final results.  "
   ]
  },
  {
   "attachments": {},
   "cell_type": "markdown",
   "metadata": {},
   "source": [
    "## Making recommendations"
   ]
  },
  {
   "attachments": {},
   "cell_type": "markdown",
   "metadata": {},
   "source": [
    "To decrease the amount of scraping, I implement one of the improvement ideas from above - excluding the uncredited cast. The final code for the parse_full_credits method is as following: "
   ]
  },
  {
   "attachments": {},
   "cell_type": "markdown",
   "metadata": {},
   "source": [
    "```python\n",
    "def parse_full_credits(self, response):\n",
    "        \"\"\"\n",
    "        cast&crew page parser that traverses through pages of all the cast of the movie\n",
    "        \"\"\"\n",
    "        # the cast information is put under the ol (ordered lists) with class name \"people\" and \"credits \"\n",
    "        # get characters information corresponding to each cast member from the <p> tag with class name character\n",
    "        characters = response.css(\"ol\")[0].css(\"p.character::text\").getall()\n",
    "        # the link to individual cast page is put in <a href = [relative path]>\n",
    "        castlinks = response.css(\"ol\")[0].css(\"div.info\").css(\"a::attr(href)\").getall()\n",
    "        #use list comprehension to exclude uncredited cast members' pages\n",
    "        creditedlinks = [castlinks[i] for i in range(len(castlinks)) if \"(uncredited)\" not\n",
    "    ...:  in characters[i]]\n",
    "        # we can hardcode the link to filter for works the person act in\n",
    "        # use list comprehension to generate the list of cast pages\n",
    "        creditedlinks = [i+\"?credit_department=Acting\" for i in creditedlinks]\n",
    "        casts = [response.urljoin(link) for link in creditedlinks]\n",
    "        for cast in casts:\n",
    "            yield scrapy.Request(cast, callback = self.parse_actor_page)\n",
    "```"
   ]
  },
  {
   "attachments": {},
   "cell_type": "markdown",
   "metadata": {},
   "source": [
    "Now, we read in the final lists of movies/shows."
   ]
  },
  {
   "cell_type": "code",
   "execution_count": 7,
   "metadata": {},
   "outputs": [],
   "source": [
    "import pandas as pd "
   ]
  },
  {
   "cell_type": "code",
   "execution_count": 8,
   "metadata": {},
   "outputs": [
    {
     "data": {
      "text/html": [
       "<div>\n",
       "<style scoped>\n",
       "    .dataframe tbody tr th:only-of-type {\n",
       "        vertical-align: middle;\n",
       "    }\n",
       "\n",
       "    .dataframe tbody tr th {\n",
       "        vertical-align: top;\n",
       "    }\n",
       "\n",
       "    .dataframe thead th {\n",
       "        text-align: right;\n",
       "    }\n",
       "</style>\n",
       "<table border=\"1\" class=\"dataframe\">\n",
       "  <thead>\n",
       "    <tr style=\"text-align: right;\">\n",
       "      <th></th>\n",
       "      <th>actor</th>\n",
       "      <th>show_name</th>\n",
       "    </tr>\n",
       "  </thead>\n",
       "  <tbody>\n",
       "    <tr>\n",
       "      <th>0</th>\n",
       "      <td>Al Pacino</td>\n",
       "      <td>Knox Goes Away</td>\n",
       "    </tr>\n",
       "    <tr>\n",
       "      <th>1</th>\n",
       "      <td>Al Pacino</td>\n",
       "      <td>Sniff</td>\n",
       "    </tr>\n",
       "    <tr>\n",
       "      <th>2</th>\n",
       "      <td>Al Pacino</td>\n",
       "      <td>Billy Knight</td>\n",
       "    </tr>\n",
       "    <tr>\n",
       "      <th>3</th>\n",
       "      <td>Al Pacino</td>\n",
       "      <td>King Lear</td>\n",
       "    </tr>\n",
       "    <tr>\n",
       "      <th>4</th>\n",
       "      <td>Al Pacino</td>\n",
       "      <td>Brad Pitt: More Than a Pretty Face</td>\n",
       "    </tr>\n",
       "  </tbody>\n",
       "</table>\n",
       "</div>"
      ],
      "text/plain": [
       "       actor                           show_name\n",
       "0  Al Pacino                      Knox Goes Away\n",
       "1  Al Pacino                               Sniff\n",
       "2  Al Pacino                        Billy Knight\n",
       "3  Al Pacino                           King Lear\n",
       "4  Al Pacino  Brad Pitt: More Than a Pretty Face"
      ]
     },
     "execution_count": 8,
     "metadata": {},
     "output_type": "execute_result"
    }
   ],
   "source": [
    "fav = \"The Godfather Part II\"\n",
    "rec = pd.read_csv(\"/Users/linlin/Desktop/2023/16b/rec/TMDB_scraper/movies-updated.csv\")\n",
    "rec = rec[rec[\"show_name\"] != fav]\n",
    "rec.head()"
   ]
  },
  {
   "attachments": {},
   "cell_type": "markdown",
   "metadata": {},
   "source": [
    "Once you’re happy with the operation of your spider, compute a sorted list with the top movies and TV shows that share actors with your favorite movie or TV show. For example, it may have two columns: one for “movie names” and “number of shared actors”."
   ]
  },
  {
   "cell_type": "code",
   "execution_count": 9,
   "metadata": {},
   "outputs": [
    {
     "data": {
      "text/html": [
       "<div>\n",
       "<style scoped>\n",
       "    .dataframe tbody tr th:only-of-type {\n",
       "        vertical-align: middle;\n",
       "    }\n",
       "\n",
       "    .dataframe tbody tr th {\n",
       "        vertical-align: top;\n",
       "    }\n",
       "\n",
       "    .dataframe thead th {\n",
       "        text-align: right;\n",
       "    }\n",
       "</style>\n",
       "<table border=\"1\" class=\"dataframe\">\n",
       "  <thead>\n",
       "    <tr style=\"text-align: right;\">\n",
       "      <th></th>\n",
       "      <th>show_name</th>\n",
       "      <th>actor</th>\n",
       "    </tr>\n",
       "  </thead>\n",
       "  <tbody>\n",
       "    <tr>\n",
       "      <th>0</th>\n",
       "      <td>Mario Puzo's The Godfather: The Complete Novel...</td>\n",
       "      <td>23</td>\n",
       "    </tr>\n",
       "    <tr>\n",
       "      <th>1</th>\n",
       "      <td>The Godfather</td>\n",
       "      <td>18</td>\n",
       "    </tr>\n",
       "    <tr>\n",
       "      <th>2</th>\n",
       "      <td>'The Godfather' Family: A Look Inside</td>\n",
       "      <td>8</td>\n",
       "    </tr>\n",
       "    <tr>\n",
       "      <th>3</th>\n",
       "      <td>Kojak</td>\n",
       "      <td>8</td>\n",
       "    </tr>\n",
       "    <tr>\n",
       "      <th>4</th>\n",
       "      <td>The Godfather Part III</td>\n",
       "      <td>7</td>\n",
       "    </tr>\n",
       "    <tr>\n",
       "      <th>5</th>\n",
       "      <td>Mannix</td>\n",
       "      <td>7</td>\n",
       "    </tr>\n",
       "    <tr>\n",
       "      <th>6</th>\n",
       "      <td>The Godfather Trilogy: 1901-1980</td>\n",
       "      <td>6</td>\n",
       "    </tr>\n",
       "    <tr>\n",
       "      <th>7</th>\n",
       "      <td>Tales from the Darkside</td>\n",
       "      <td>6</td>\n",
       "    </tr>\n",
       "    <tr>\n",
       "      <th>8</th>\n",
       "      <td>Becoming Al Pacino</td>\n",
       "      <td>6</td>\n",
       "    </tr>\n",
       "    <tr>\n",
       "      <th>9</th>\n",
       "      <td>The Rockford Files</td>\n",
       "      <td>6</td>\n",
       "    </tr>\n",
       "    <tr>\n",
       "      <th>10</th>\n",
       "      <td>The F.B.I.</td>\n",
       "      <td>6</td>\n",
       "    </tr>\n",
       "    <tr>\n",
       "      <th>11</th>\n",
       "      <td>Hill Street Blues</td>\n",
       "      <td>5</td>\n",
       "    </tr>\n",
       "    <tr>\n",
       "      <th>12</th>\n",
       "      <td>Jake and the Fatman</td>\n",
       "      <td>5</td>\n",
       "    </tr>\n",
       "    <tr>\n",
       "      <th>13</th>\n",
       "      <td>Night of 100 Stars</td>\n",
       "      <td>5</td>\n",
       "    </tr>\n",
       "    <tr>\n",
       "      <th>14</th>\n",
       "      <td>The Oscars</td>\n",
       "      <td>5</td>\n",
       "    </tr>\n",
       "  </tbody>\n",
       "</table>\n",
       "</div>"
      ],
      "text/plain": [
       "                                            show_name  actor\n",
       "0   Mario Puzo's The Godfather: The Complete Novel...     23\n",
       "1                                       The Godfather     18\n",
       "2               'The Godfather' Family: A Look Inside      8\n",
       "3                                               Kojak      8\n",
       "4                              The Godfather Part III      7\n",
       "5                                              Mannix      7\n",
       "6                    The Godfather Trilogy: 1901-1980      6\n",
       "7                             Tales from the Darkside      6\n",
       "8                                  Becoming Al Pacino      6\n",
       "9                                  The Rockford Files      6\n",
       "10                                         The F.B.I.      6\n",
       "11                                  Hill Street Blues      5\n",
       "12                                Jake and the Fatman      5\n",
       "13                                 Night of 100 Stars      5\n",
       "14                                         The Oscars      5"
      ]
     },
     "execution_count": 9,
     "metadata": {},
     "output_type": "execute_result"
    }
   ],
   "source": [
    "sorted = rec.groupby(\"show_name\").count().sort_values(['actor'], ascending=False)\n",
    "picks = sorted.reset_index().head(15)\n",
    "picks\n"
   ]
  },
  {
   "cell_type": "code",
   "execution_count": 2,
   "metadata": {},
   "outputs": [],
   "source": [
    "import plotly.io as pio\n",
    "pio.renderers.default = \"notebook_connected\""
   ]
  },
  {
   "cell_type": "code",
   "execution_count": 10,
   "metadata": {},
   "outputs": [
    {
     "data": {
      "text/html": [
       "        <script type=\"text/javascript\">\n",
       "        window.PlotlyConfig = {MathJaxConfig: 'local'};\n",
       "        if (window.MathJax && window.MathJax.Hub && window.MathJax.Hub.Config) {window.MathJax.Hub.Config({SVG: {font: \"STIX-Web\"}});}\n",
       "        if (typeof require !== 'undefined') {\n",
       "        require.undef(\"plotly\");\n",
       "        requirejs.config({\n",
       "            paths: {\n",
       "                'plotly': ['https://cdn.plot.ly/plotly-2.18.0.min']\n",
       "            }\n",
       "        });\n",
       "        require(['plotly'], function(Plotly) {\n",
       "            window._Plotly = Plotly;\n",
       "        });\n",
       "        }\n",
       "        </script>\n",
       "        "
      ]
     },
     "metadata": {},
     "output_type": "display_data"
    },
    {
     "data": {
      "text/html": [
       "<div>                            <div id=\"d4e2d94a-5f8f-43b7-a1dd-451497118c1a\" class=\"plotly-graph-div\" style=\"height:525px; width:100%;\"></div>            <script type=\"text/javascript\">                require([\"plotly\"], function(Plotly) {                    window.PLOTLYENV=window.PLOTLYENV || {};                                    if (document.getElementById(\"d4e2d94a-5f8f-43b7-a1dd-451497118c1a\")) {                    Plotly.newPlot(                        \"d4e2d94a-5f8f-43b7-a1dd-451497118c1a\",                        [{\"alignmentgroup\":\"True\",\"bingroup\":\"x\",\"histfunc\":\"sum\",\"legendgroup\":\"\",\"marker\":{\"color\":\"#636efa\",\"pattern\":{\"shape\":\"\"}},\"name\":\"\",\"offsetgroup\":\"\",\"orientation\":\"v\",\"showlegend\":false,\"texttemplate\":\"%{value}\",\"x\":[\"Mario Puzo's The Godfather: The Complete Novel for Television\",\"The Godfather\",\"'The Godfather' Family: A Look Inside\",\"Kojak\",\"The Godfather Part III\",\"Mannix\",\"The Godfather Trilogy: 1901-1980\",\"Tales from the Darkside\",\"Becoming Al Pacino\",\"The Rockford Files\",\"The F.B.I.\",\"Hill Street Blues\",\"Jake and the Fatman\",\"Night of 100 Stars\",\"The Oscars\"],\"xaxis\":\"x\",\"y\":[23,18,8,8,7,7,6,6,6,6,6,5,5,5,5],\"yaxis\":\"y\",\"type\":\"histogram\",\"hoverinfo\":\"skip\"}],                        {\"template\":{\"data\":{\"histogram2dcontour\":[{\"type\":\"histogram2dcontour\",\"colorbar\":{\"outlinewidth\":0,\"ticks\":\"\"},\"colorscale\":[[0.0,\"#0d0887\"],[0.1111111111111111,\"#46039f\"],[0.2222222222222222,\"#7201a8\"],[0.3333333333333333,\"#9c179e\"],[0.4444444444444444,\"#bd3786\"],[0.5555555555555556,\"#d8576b\"],[0.6666666666666666,\"#ed7953\"],[0.7777777777777778,\"#fb9f3a\"],[0.8888888888888888,\"#fdca26\"],[1.0,\"#f0f921\"]]}],\"choropleth\":[{\"type\":\"choropleth\",\"colorbar\":{\"outlinewidth\":0,\"ticks\":\"\"}}],\"histogram2d\":[{\"type\":\"histogram2d\",\"colorbar\":{\"outlinewidth\":0,\"ticks\":\"\"},\"colorscale\":[[0.0,\"#0d0887\"],[0.1111111111111111,\"#46039f\"],[0.2222222222222222,\"#7201a8\"],[0.3333333333333333,\"#9c179e\"],[0.4444444444444444,\"#bd3786\"],[0.5555555555555556,\"#d8576b\"],[0.6666666666666666,\"#ed7953\"],[0.7777777777777778,\"#fb9f3a\"],[0.8888888888888888,\"#fdca26\"],[1.0,\"#f0f921\"]]}],\"heatmap\":[{\"type\":\"heatmap\",\"colorbar\":{\"outlinewidth\":0,\"ticks\":\"\"},\"colorscale\":[[0.0,\"#0d0887\"],[0.1111111111111111,\"#46039f\"],[0.2222222222222222,\"#7201a8\"],[0.3333333333333333,\"#9c179e\"],[0.4444444444444444,\"#bd3786\"],[0.5555555555555556,\"#d8576b\"],[0.6666666666666666,\"#ed7953\"],[0.7777777777777778,\"#fb9f3a\"],[0.8888888888888888,\"#fdca26\"],[1.0,\"#f0f921\"]]}],\"heatmapgl\":[{\"type\":\"heatmapgl\",\"colorbar\":{\"outlinewidth\":0,\"ticks\":\"\"},\"colorscale\":[[0.0,\"#0d0887\"],[0.1111111111111111,\"#46039f\"],[0.2222222222222222,\"#7201a8\"],[0.3333333333333333,\"#9c179e\"],[0.4444444444444444,\"#bd3786\"],[0.5555555555555556,\"#d8576b\"],[0.6666666666666666,\"#ed7953\"],[0.7777777777777778,\"#fb9f3a\"],[0.8888888888888888,\"#fdca26\"],[1.0,\"#f0f921\"]]}],\"contourcarpet\":[{\"type\":\"contourcarpet\",\"colorbar\":{\"outlinewidth\":0,\"ticks\":\"\"}}],\"contour\":[{\"type\":\"contour\",\"colorbar\":{\"outlinewidth\":0,\"ticks\":\"\"},\"colorscale\":[[0.0,\"#0d0887\"],[0.1111111111111111,\"#46039f\"],[0.2222222222222222,\"#7201a8\"],[0.3333333333333333,\"#9c179e\"],[0.4444444444444444,\"#bd3786\"],[0.5555555555555556,\"#d8576b\"],[0.6666666666666666,\"#ed7953\"],[0.7777777777777778,\"#fb9f3a\"],[0.8888888888888888,\"#fdca26\"],[1.0,\"#f0f921\"]]}],\"surface\":[{\"type\":\"surface\",\"colorbar\":{\"outlinewidth\":0,\"ticks\":\"\"},\"colorscale\":[[0.0,\"#0d0887\"],[0.1111111111111111,\"#46039f\"],[0.2222222222222222,\"#7201a8\"],[0.3333333333333333,\"#9c179e\"],[0.4444444444444444,\"#bd3786\"],[0.5555555555555556,\"#d8576b\"],[0.6666666666666666,\"#ed7953\"],[0.7777777777777778,\"#fb9f3a\"],[0.8888888888888888,\"#fdca26\"],[1.0,\"#f0f921\"]]}],\"mesh3d\":[{\"type\":\"mesh3d\",\"colorbar\":{\"outlinewidth\":0,\"ticks\":\"\"}}],\"scatter\":[{\"fillpattern\":{\"fillmode\":\"overlay\",\"size\":10,\"solidity\":0.2},\"type\":\"scatter\"}],\"parcoords\":[{\"type\":\"parcoords\",\"line\":{\"colorbar\":{\"outlinewidth\":0,\"ticks\":\"\"}}}],\"scatterpolargl\":[{\"type\":\"scatterpolargl\",\"marker\":{\"colorbar\":{\"outlinewidth\":0,\"ticks\":\"\"}}}],\"bar\":[{\"error_x\":{\"color\":\"#2a3f5f\"},\"error_y\":{\"color\":\"#2a3f5f\"},\"marker\":{\"line\":{\"color\":\"#E5ECF6\",\"width\":0.5},\"pattern\":{\"fillmode\":\"overlay\",\"size\":10,\"solidity\":0.2}},\"type\":\"bar\"}],\"scattergeo\":[{\"type\":\"scattergeo\",\"marker\":{\"colorbar\":{\"outlinewidth\":0,\"ticks\":\"\"}}}],\"scatterpolar\":[{\"type\":\"scatterpolar\",\"marker\":{\"colorbar\":{\"outlinewidth\":0,\"ticks\":\"\"}}}],\"histogram\":[{\"marker\":{\"pattern\":{\"fillmode\":\"overlay\",\"size\":10,\"solidity\":0.2}},\"type\":\"histogram\"}],\"scattergl\":[{\"type\":\"scattergl\",\"marker\":{\"colorbar\":{\"outlinewidth\":0,\"ticks\":\"\"}}}],\"scatter3d\":[{\"type\":\"scatter3d\",\"line\":{\"colorbar\":{\"outlinewidth\":0,\"ticks\":\"\"}},\"marker\":{\"colorbar\":{\"outlinewidth\":0,\"ticks\":\"\"}}}],\"scattermapbox\":[{\"type\":\"scattermapbox\",\"marker\":{\"colorbar\":{\"outlinewidth\":0,\"ticks\":\"\"}}}],\"scatterternary\":[{\"type\":\"scatterternary\",\"marker\":{\"colorbar\":{\"outlinewidth\":0,\"ticks\":\"\"}}}],\"scattercarpet\":[{\"type\":\"scattercarpet\",\"marker\":{\"colorbar\":{\"outlinewidth\":0,\"ticks\":\"\"}}}],\"carpet\":[{\"aaxis\":{\"endlinecolor\":\"#2a3f5f\",\"gridcolor\":\"white\",\"linecolor\":\"white\",\"minorgridcolor\":\"white\",\"startlinecolor\":\"#2a3f5f\"},\"baxis\":{\"endlinecolor\":\"#2a3f5f\",\"gridcolor\":\"white\",\"linecolor\":\"white\",\"minorgridcolor\":\"white\",\"startlinecolor\":\"#2a3f5f\"},\"type\":\"carpet\"}],\"table\":[{\"cells\":{\"fill\":{\"color\":\"#EBF0F8\"},\"line\":{\"color\":\"white\"}},\"header\":{\"fill\":{\"color\":\"#C8D4E3\"},\"line\":{\"color\":\"white\"}},\"type\":\"table\"}],\"barpolar\":[{\"marker\":{\"line\":{\"color\":\"#E5ECF6\",\"width\":0.5},\"pattern\":{\"fillmode\":\"overlay\",\"size\":10,\"solidity\":0.2}},\"type\":\"barpolar\"}],\"pie\":[{\"automargin\":true,\"type\":\"pie\"}]},\"layout\":{\"autotypenumbers\":\"strict\",\"colorway\":[\"#636efa\",\"#EF553B\",\"#00cc96\",\"#ab63fa\",\"#FFA15A\",\"#19d3f3\",\"#FF6692\",\"#B6E880\",\"#FF97FF\",\"#FECB52\"],\"font\":{\"color\":\"#2a3f5f\"},\"hovermode\":\"closest\",\"hoverlabel\":{\"align\":\"left\"},\"paper_bgcolor\":\"white\",\"plot_bgcolor\":\"#E5ECF6\",\"polar\":{\"bgcolor\":\"#E5ECF6\",\"angularaxis\":{\"gridcolor\":\"white\",\"linecolor\":\"white\",\"ticks\":\"\"},\"radialaxis\":{\"gridcolor\":\"white\",\"linecolor\":\"white\",\"ticks\":\"\"}},\"ternary\":{\"bgcolor\":\"#E5ECF6\",\"aaxis\":{\"gridcolor\":\"white\",\"linecolor\":\"white\",\"ticks\":\"\"},\"baxis\":{\"gridcolor\":\"white\",\"linecolor\":\"white\",\"ticks\":\"\"},\"caxis\":{\"gridcolor\":\"white\",\"linecolor\":\"white\",\"ticks\":\"\"}},\"coloraxis\":{\"colorbar\":{\"outlinewidth\":0,\"ticks\":\"\"}},\"colorscale\":{\"sequential\":[[0.0,\"#0d0887\"],[0.1111111111111111,\"#46039f\"],[0.2222222222222222,\"#7201a8\"],[0.3333333333333333,\"#9c179e\"],[0.4444444444444444,\"#bd3786\"],[0.5555555555555556,\"#d8576b\"],[0.6666666666666666,\"#ed7953\"],[0.7777777777777778,\"#fb9f3a\"],[0.8888888888888888,\"#fdca26\"],[1.0,\"#f0f921\"]],\"sequentialminus\":[[0.0,\"#0d0887\"],[0.1111111111111111,\"#46039f\"],[0.2222222222222222,\"#7201a8\"],[0.3333333333333333,\"#9c179e\"],[0.4444444444444444,\"#bd3786\"],[0.5555555555555556,\"#d8576b\"],[0.6666666666666666,\"#ed7953\"],[0.7777777777777778,\"#fb9f3a\"],[0.8888888888888888,\"#fdca26\"],[1.0,\"#f0f921\"]],\"diverging\":[[0,\"#8e0152\"],[0.1,\"#c51b7d\"],[0.2,\"#de77ae\"],[0.3,\"#f1b6da\"],[0.4,\"#fde0ef\"],[0.5,\"#f7f7f7\"],[0.6,\"#e6f5d0\"],[0.7,\"#b8e186\"],[0.8,\"#7fbc41\"],[0.9,\"#4d9221\"],[1,\"#276419\"]]},\"xaxis\":{\"gridcolor\":\"white\",\"linecolor\":\"white\",\"ticks\":\"\",\"title\":{\"standoff\":15},\"zerolinecolor\":\"white\",\"automargin\":true,\"zerolinewidth\":2},\"yaxis\":{\"gridcolor\":\"white\",\"linecolor\":\"white\",\"ticks\":\"\",\"title\":{\"standoff\":15},\"zerolinecolor\":\"white\",\"automargin\":true,\"zerolinewidth\":2},\"scene\":{\"xaxis\":{\"backgroundcolor\":\"#E5ECF6\",\"gridcolor\":\"white\",\"linecolor\":\"white\",\"showbackground\":true,\"ticks\":\"\",\"zerolinecolor\":\"white\",\"gridwidth\":2},\"yaxis\":{\"backgroundcolor\":\"#E5ECF6\",\"gridcolor\":\"white\",\"linecolor\":\"white\",\"showbackground\":true,\"ticks\":\"\",\"zerolinecolor\":\"white\",\"gridwidth\":2},\"zaxis\":{\"backgroundcolor\":\"#E5ECF6\",\"gridcolor\":\"white\",\"linecolor\":\"white\",\"showbackground\":true,\"ticks\":\"\",\"zerolinecolor\":\"white\",\"gridwidth\":2}},\"shapedefaults\":{\"line\":{\"color\":\"#2a3f5f\"}},\"annotationdefaults\":{\"arrowcolor\":\"#2a3f5f\",\"arrowhead\":0,\"arrowwidth\":1},\"geo\":{\"bgcolor\":\"white\",\"landcolor\":\"#E5ECF6\",\"subunitcolor\":\"white\",\"showland\":true,\"showlakes\":true,\"lakecolor\":\"white\"},\"title\":{\"x\":0.05},\"mapbox\":{\"style\":\"light\"}}},\"xaxis\":{\"anchor\":\"y\",\"domain\":[0.0,1.0],\"title\":{\"text\":\"movie/tv name\"}},\"yaxis\":{\"anchor\":\"x\",\"domain\":[0.0,1.0],\"title\":{\"text\":\"num. of shared actors\"}},\"legend\":{\"tracegroupgap\":0},\"title\":{\"text\":\"Top recommendations with the most shared actors w/ 'The Godfather II'\"},\"barmode\":\"relative\",\"margin\":{\"r\":0,\"t\":30,\"l\":0,\"b\":0},\"font\":{\"size\":8}},                        {\"responsive\": true}                    ).then(function(){\n",
       "                            \n",
       "var gd = document.getElementById('d4e2d94a-5f8f-43b7-a1dd-451497118c1a');\n",
       "var x = new MutationObserver(function (mutations, observer) {{\n",
       "        var display = window.getComputedStyle(gd).display;\n",
       "        if (!display || display === 'none') {{\n",
       "            console.log([gd, 'removed!']);\n",
       "            Plotly.purge(gd);\n",
       "            observer.disconnect();\n",
       "        }}\n",
       "}});\n",
       "\n",
       "// Listen for the removal of the full notebook cells\n",
       "var notebookContainer = gd.closest('#notebook-container');\n",
       "if (notebookContainer) {{\n",
       "    x.observe(notebookContainer, {childList: true});\n",
       "}}\n",
       "\n",
       "// Listen for the clearing of the current output cell\n",
       "var outputEl = gd.closest('.output');\n",
       "if (outputEl) {{\n",
       "    x.observe(outputEl, {childList: true});\n",
       "}}\n",
       "\n",
       "                        })                };                });            </script>        </div>"
      ]
     },
     "metadata": {},
     "output_type": "display_data"
    }
   ],
   "source": [
    "pl = px.histogram(picks,hover_name=\"show_name\",x = \"show_name\",y=\"actor\",\n",
    "                  title = \"Top recommendations with the most shared actors w/ 'The Godfather II'\",\n",
    "                    text_auto=True)\n",
    "pl.update_layout(\n",
    "    yaxis_title=\"num. of shared actors\",\n",
    "    xaxis_title=\"movie/tv name\",\n",
    "    margin={\"r\":0,\"t\":30,\"l\":0,\"b\":0},\n",
    "                      font={\"size\" : 8}\n",
    ")  \n",
    "pl.update_traces(\n",
    "    hovertemplate = None,\n",
    "    hoverinfo = \"skip\"\n",
    ")\n",
    "pl.show()\n",
    "\n",
    "\n",
    "\n",
    "\n",
    "\n",
    "\n",
    "\n"
   ]
  },
  {
   "cell_type": "code",
   "execution_count": null,
   "metadata": {},
   "outputs": [],
   "source": []
  }
 ],
 "metadata": {
  "kernelspec": {
   "display_name": "base",
   "language": "python",
   "name": "python3"
  },
  "language_info": {
   "codemirror_mode": {
    "name": "ipython",
    "version": 3
   },
   "file_extension": ".py",
   "mimetype": "text/x-python",
   "name": "python",
   "nbconvert_exporter": "python",
   "pygments_lexer": "ipython3",
   "version": "3.8.8"
  },
  "orig_nbformat": 4,
  "vscode": {
   "interpreter": {
    "hash": "dea020618c6d75d6a2b362878fa8ffdb3663cdd93010adabd1eb95477499d165"
   }
  }
 },
 "nbformat": 4,
 "nbformat_minor": 2
}
